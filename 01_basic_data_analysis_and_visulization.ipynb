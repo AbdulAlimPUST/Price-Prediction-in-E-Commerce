{
  "nbformat": 4,
  "nbformat_minor": 0,
  "metadata": {
    "colab": {
      "name": "Mercary_challenge_EDA.ipynb",
      "provenance": []
    },
    "kernelspec": {
      "name": "python3",
      "display_name": "Python 3"
    }
  },
  "cells": [
    {
      "cell_type": "markdown",
      "metadata": {
        "id": "ItpVpSp0px7h",
        "colab_type": "text"
      },
      "source": [
        "## This code demonstrate the workflow of mercary price suggestion challenge. This is an detailed Exploratory Data Analysis\n",
        "\n",
        "---\n",
        "\n",
        "\n",
        "\n",
        "---\n",
        "\n"
      ]
    },
    {
      "cell_type": "markdown",
      "metadata": {
        "id": "aCaUsn_HqpBx",
        "colab_type": "text"
      },
      "source": [
        "The First step is basically setting up the data for our analysis. We show in detail demostration in the first step."
      ]
    },
    {
      "cell_type": "markdown",
      "metadata": {
        "id": "CWJom0ntq-G_",
        "colab_type": "text"
      },
      "source": [
        "Step 1: Setting up the colab environment"
      ]
    },
    {
      "cell_type": "code",
      "metadata": {
        "id": "xzvru1PcYLYR",
        "colab_type": "code",
        "colab": {}
      },
      "source": [
        "# Colab library to upload files to notebook\n",
        "from google.colab import files\n",
        "\n",
        "# Install Kaggle library\n",
        "!pip install -q kaggle"
      ],
      "execution_count": 0,
      "outputs": []
    },
    {
      "cell_type": "code",
      "metadata": {
        "id": "F3INqHwBYpYS",
        "colab_type": "code",
        "colab": {
          "resources": {
            "http://localhost:8080/nbextensions/google.colab/files.js": {
              "data": "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",
              "ok": true,
              "headers": [
                [
                  "content-type",
                  "application/javascript"
                ]
              ],
              "status": 200,
              "status_text": ""
            }
          },
          "base_uri": "https://localhost:8080/",
          "height": 74
        },
        "outputId": "5a7ab67a-e743-4b54-f569-7a4fb762c785"
      },
      "source": [
        "# Upload kaggle API key file\n",
        "uploaded = files.upload()"
      ],
      "execution_count": 230,
      "outputs": [
        {
          "output_type": "display_data",
          "data": {
            "text/html": [
              "\n",
              "     <input type=\"file\" id=\"files-de0e94a9-7da3-4edd-b192-17713fff3b82\" name=\"files[]\" multiple disabled />\n",
              "     <output id=\"result-de0e94a9-7da3-4edd-b192-17713fff3b82\">\n",
              "      Upload widget is only available when the cell has been executed in the\n",
              "      current browser session. Please rerun this cell to enable.\n",
              "      </output>\n",
              "      <script src=\"/nbextensions/google.colab/files.js\"></script> "
            ],
            "text/plain": [
              "<IPython.core.display.HTML object>"
            ]
          },
          "metadata": {
            "tags": []
          }
        },
        {
          "output_type": "stream",
          "text": [
            "Saving kaggle.json to kaggle (1).json\n"
          ],
          "name": "stdout"
        }
      ]
    },
    {
      "cell_type": "code",
      "metadata": {
        "id": "FoyxmLO6nH-U",
        "colab_type": "code",
        "colab": {}
      },
      "source": [
        "#before importing the dataset we want to use this code\n",
        "# The Kaggle API client expects this file to be in ~/.kaggle,\n",
        "!mkdir -p ~/.kaggle\n",
        "!cp kaggle.json ~/.kaggle/\n",
        "\n",
        "# This permissions change avoids a warning on Kaggle tool startup.\n",
        "!chmod 600 ~/.kaggle/kaggle.json"
      ],
      "execution_count": 0,
      "outputs": []
    },
    {
      "cell_type": "code",
      "metadata": {
        "id": "eE8WTf99YyAD",
        "colab_type": "code",
        "colab": {
          "base_uri": "https://localhost:8080/",
          "height": 153
        },
        "outputId": "54ab39d9-a063-45af-a43b-95643faef950"
      },
      "source": [
        "!kaggle competitions download -c mercari-price-suggestion-challenge"
      ],
      "execution_count": 232,
      "outputs": [
        {
          "output_type": "stream",
          "text": [
            "Warning: Looks like you're using an outdated API Version, please consider updating (server 1.5.6 / client 1.5.4)\n",
            "sample_submission_stg2.csv.zip: Skipping, found more recently modified local copy (use --force to force download)\n",
            "Downloading train.tsv.7z to /content\n",
            " 98% 73.0M/74.3M [00:00<00:00, 93.7MB/s]\n",
            "100% 74.3M/74.3M [00:00<00:00, 151MB/s] \n",
            "test_stg2.tsv.zip: Skipping, found more recently modified local copy (use --force to force download)\n",
            "test.tsv.7z: Skipping, found more recently modified local copy (use --force to force download)\n",
            "sample_submission.csv.7z: Skipping, found more recently modified local copy (use --force to force download)\n"
          ],
          "name": "stdout"
        }
      ]
    },
    {
      "cell_type": "code",
      "metadata": {
        "id": "UJG7UPk2cZ0_",
        "colab_type": "code",
        "colab": {
          "base_uri": "https://localhost:8080/",
          "height": 646
        },
        "outputId": "4e92c6cb-00ef-43f4-e920-eaf6fccf7e67"
      },
      "source": [
        "# We unzip the downloaded .7z file\n",
        "!apt-get install p7zip-full\n",
        "!p7zip -d train.tsv.7z\n"
      ],
      "execution_count": 233,
      "outputs": [
        {
          "output_type": "stream",
          "text": [
            "Reading package lists... Done\n",
            "Building dependency tree       \n",
            "Reading state information... Done\n",
            "p7zip-full is already the newest version (16.02+dfsg-6).\n",
            "0 upgraded, 0 newly installed, 0 to remove and 25 not upgraded.\n",
            "\n",
            "7-Zip (a) [64] 16.02 : Copyright (c) 1999-2016 Igor Pavlov : 2016-05-21\n",
            "p7zip Version 16.02 (locale=en_US.UTF-8,Utf16=on,HugeFiles=on,64 bits,2 CPUs Intel(R) Xeon(R) CPU @ 2.30GHz (306F0),ASM,AES-NI)\n",
            "\n",
            "Scanning the drive for archives:\n",
            "  0M Scan\b\b\b\b\b\b\b\b\b         \b\b\b\b\b\b\b\b\b1 file, 77912192 bytes (75 MiB)\n",
            "\n",
            "Extracting archive: train.tsv.7z\n",
            "--\n",
            "Path = train.tsv.7z\n",
            "Type = 7z\n",
            "Physical Size = 77912192\n",
            "Headers Size = 122\n",
            "Method = LZMA2:24\n",
            "Solid = -\n",
            "Blocks = 1\n",
            "\n",
            "  0%\b\b\b\b    \b\b\b\b\n",
            "Would you like to replace the existing file:\n",
            "  Path:     ./train.tsv\n",
            "  Size:     337809843 bytes (323 MiB)\n",
            "  Modified: 2017-11-11 01:31:09\n",
            "with the file from archive:\n",
            "  Path:     train.tsv\n",
            "  Size:     337809843 bytes (323 MiB)\n",
            "  Modified: 2017-11-11 01:31:09\n",
            "? (Y)es / (N)o / (A)lways / (S)kip all / A(u)to rename all / (Q)uit? Y\n",
            "\n",
            "  1% - train.tsv\b\b\b\b\b\b\b\b\b\b\b\b\b\b\b\b                \b\b\b\b\b\b\b\b\b\b\b\b\b\b\b\b  4% - train.tsv\b\b\b\b\b\b\b\b\b\b\b\b\b\b\b\b                \b\b\b\b\b\b\b\b\b\b\b\b\b\b\b\b  8% - train.tsv\b\b\b\b\b\b\b\b\b\b\b\b\b\b\b\b                \b\b\b\b\b\b\b\b\b\b\b\b\b\b\b\b 12% - train.tsv\b\b\b\b\b\b\b\b\b\b\b\b\b\b\b\b                \b\b\b\b\b\b\b\b\b\b\b\b\b\b\b\b 16% - train.tsv\b\b\b\b\b\b\b\b\b\b\b\b\b\b\b\b                \b\b\b\b\b\b\b\b\b\b\b\b\b\b\b\b 19% - train.tsv\b\b\b\b\b\b\b\b\b\b\b\b\b\b\b\b                \b\b\b\b\b\b\b\b\b\b\b\b\b\b\b\b 23% - train.tsv\b\b\b\b\b\b\b\b\b\b\b\b\b\b\b\b                \b\b\b\b\b\b\b\b\b\b\b\b\b\b\b\b 27% - train.tsv\b\b\b\b\b\b\b\b\b\b\b\b\b\b\b\b                \b\b\b\b\b\b\b\b\b\b\b\b\b\b\b\b 30% - train.tsv\b\b\b\b\b\b\b\b\b\b\b\b\b\b\b\b                \b\b\b\b\b\b\b\b\b\b\b\b\b\b\b\b 34% - train.tsv\b\b\b\b\b\b\b\b\b\b\b\b\b\b\b\b                \b\b\b\b\b\b\b\b\b\b\b\b\b\b\b\b 38% - train.tsv\b\b\b\b\b\b\b\b\b\b\b\b\b\b\b\b                \b\b\b\b\b\b\b\b\b\b\b\b\b\b\b\b 42% - train.tsv\b\b\b\b\b\b\b\b\b\b\b\b\b\b\b\b                \b\b\b\b\b\b\b\b\b\b\b\b\b\b\b\b 45% - train.tsv\b\b\b\b\b\b\b\b\b\b\b\b\b\b\b\b                \b\b\b\b\b\b\b\b\b\b\b\b\b\b\b\b 49% - train.tsv\b\b\b\b\b\b\b\b\b\b\b\b\b\b\b\b                \b\b\b\b\b\b\b\b\b\b\b\b\b\b\b\b 53% - train.tsv\b\b\b\b\b\b\b\b\b\b\b\b\b\b\b\b                \b\b\b\b\b\b\b\b\b\b\b\b\b\b\b\b 57% - train.tsv\b\b\b\b\b\b\b\b\b\b\b\b\b\b\b\b                \b\b\b\b\b\b\b\b\b\b\b\b\b\b\b\b 60% - train.tsv\b\b\b\b\b\b\b\b\b\b\b\b\b\b\b\b                \b\b\b\b\b\b\b\b\b\b\b\b\b\b\b\b 63% - train.tsv\b\b\b\b\b\b\b\b\b\b\b\b\b\b\b\b                \b\b\b\b\b\b\b\b\b\b\b\b\b\b\b\b 67% - train.tsv\b\b\b\b\b\b\b\b\b\b\b\b\b\b\b\b                \b\b\b\b\b\b\b\b\b\b\b\b\b\b\b\b 70% - train.tsv\b\b\b\b\b\b\b\b\b\b\b\b\b\b\b\b                \b\b\b\b\b\b\b\b\b\b\b\b\b\b\b\b 74% - train.tsv\b\b\b\b\b\b\b\b\b\b\b\b\b\b\b\b                \b\b\b\b\b\b\b\b\b\b\b\b\b\b\b\b 78% - train.tsv\b\b\b\b\b\b\b\b\b\b\b\b\b\b\b\b                \b\b\b\b\b\b\b\b\b\b\b\b\b\b\b\b 81% - train.tsv\b\b\b\b\b\b\b\b\b\b\b\b\b\b\b\b                \b\b\b\b\b\b\b\b\b\b\b\b\b\b\b\b 85% - train.tsv\b\b\b\b\b\b\b\b\b\b\b\b\b\b\b\b                \b\b\b\b\b\b\b\b\b\b\b\b\b\b\b\b 89% - train.tsv\b\b\b\b\b\b\b\b\b\b\b\b\b\b\b\b                \b\b\b\b\b\b\b\b\b\b\b\b\b\b\b\b 93% - train.tsv\b\b\b\b\b\b\b\b\b\b\b\b\b\b\b\b                \b\b\b\b\b\b\b\b\b\b\b\b\b\b\b\b 96% - train.tsv\b\b\b\b\b\b\b\b\b\b\b\b\b\b\b\b                \b\b\b\b\b\b\b\b\b\b\b\b\b\b\b\b100% 1\b\b\b\b\b\b      \b\b\b\b\b\bEverything is Ok\n",
            "\n",
            "Size:       337809843\n",
            "Compressed: 77912192\n"
          ],
          "name": "stdout"
        }
      ]
    },
    {
      "cell_type": "markdown",
      "metadata": {
        "id": "1RbjHcWA5hL6",
        "colab_type": "text"
      },
      "source": [
        "**Step 2: Exploratory Analysis on the train data**"
      ]
    },
    {
      "cell_type": "code",
      "metadata": {
        "id": "CKtIjl4X5VmZ",
        "colab_type": "code",
        "colab": {
          "base_uri": "https://localhost:8080/",
          "height": 204
        },
        "outputId": "486df1b2-003c-4fe2-bfcc-5e555eaf0cbb"
      },
      "source": [
        "import pandas as pd\n",
        "df_price = pd.read_csv('train.tsv', sep = '\\t')\n",
        "df_price.head()"
      ],
      "execution_count": 305,
      "outputs": [
        {
          "output_type": "execute_result",
          "data": {
            "text/html": [
              "<div>\n",
              "<style scoped>\n",
              "    .dataframe tbody tr th:only-of-type {\n",
              "        vertical-align: middle;\n",
              "    }\n",
              "\n",
              "    .dataframe tbody tr th {\n",
              "        vertical-align: top;\n",
              "    }\n",
              "\n",
              "    .dataframe thead th {\n",
              "        text-align: right;\n",
              "    }\n",
              "</style>\n",
              "<table border=\"1\" class=\"dataframe\">\n",
              "  <thead>\n",
              "    <tr style=\"text-align: right;\">\n",
              "      <th></th>\n",
              "      <th>train_id</th>\n",
              "      <th>name</th>\n",
              "      <th>item_condition_id</th>\n",
              "      <th>category_name</th>\n",
              "      <th>brand_name</th>\n",
              "      <th>price</th>\n",
              "      <th>shipping</th>\n",
              "      <th>item_description</th>\n",
              "    </tr>\n",
              "  </thead>\n",
              "  <tbody>\n",
              "    <tr>\n",
              "      <th>0</th>\n",
              "      <td>0</td>\n",
              "      <td>MLB Cincinnati Reds T Shirt Size XL</td>\n",
              "      <td>3</td>\n",
              "      <td>Men/Tops/T-shirts</td>\n",
              "      <td>NaN</td>\n",
              "      <td>10.0</td>\n",
              "      <td>1</td>\n",
              "      <td>No description yet</td>\n",
              "    </tr>\n",
              "    <tr>\n",
              "      <th>1</th>\n",
              "      <td>1</td>\n",
              "      <td>Razer BlackWidow Chroma Keyboard</td>\n",
              "      <td>3</td>\n",
              "      <td>Electronics/Computers &amp; Tablets/Components &amp; P...</td>\n",
              "      <td>Razer</td>\n",
              "      <td>52.0</td>\n",
              "      <td>0</td>\n",
              "      <td>This keyboard is in great condition and works ...</td>\n",
              "    </tr>\n",
              "    <tr>\n",
              "      <th>2</th>\n",
              "      <td>2</td>\n",
              "      <td>AVA-VIV Blouse</td>\n",
              "      <td>1</td>\n",
              "      <td>Women/Tops &amp; Blouses/Blouse</td>\n",
              "      <td>Target</td>\n",
              "      <td>10.0</td>\n",
              "      <td>1</td>\n",
              "      <td>Adorable top with a hint of lace and a key hol...</td>\n",
              "    </tr>\n",
              "    <tr>\n",
              "      <th>3</th>\n",
              "      <td>3</td>\n",
              "      <td>Leather Horse Statues</td>\n",
              "      <td>1</td>\n",
              "      <td>Home/Home Décor/Home Décor Accents</td>\n",
              "      <td>NaN</td>\n",
              "      <td>35.0</td>\n",
              "      <td>1</td>\n",
              "      <td>New with tags. Leather horses. Retail for [rm]...</td>\n",
              "    </tr>\n",
              "    <tr>\n",
              "      <th>4</th>\n",
              "      <td>4</td>\n",
              "      <td>24K GOLD plated rose</td>\n",
              "      <td>1</td>\n",
              "      <td>Women/Jewelry/Necklaces</td>\n",
              "      <td>NaN</td>\n",
              "      <td>44.0</td>\n",
              "      <td>0</td>\n",
              "      <td>Complete with certificate of authenticity</td>\n",
              "    </tr>\n",
              "  </tbody>\n",
              "</table>\n",
              "</div>"
            ],
            "text/plain": [
              "   train_id  ...                                   item_description\n",
              "0         0  ...                                 No description yet\n",
              "1         1  ...  This keyboard is in great condition and works ...\n",
              "2         2  ...  Adorable top with a hint of lace and a key hol...\n",
              "3         3  ...  New with tags. Leather horses. Retail for [rm]...\n",
              "4         4  ...          Complete with certificate of authenticity\n",
              "\n",
              "[5 rows x 8 columns]"
            ]
          },
          "metadata": {
            "tags": []
          },
          "execution_count": 305
        }
      ]
    },
    {
      "cell_type": "code",
      "metadata": {
        "id": "2FKyv1CSJWnm",
        "colab_type": "code",
        "colab": {
          "base_uri": "https://localhost:8080/",
          "height": 289
        },
        "outputId": "27ba6a13-4903-4309-ac48-9233673fd871"
      },
      "source": [
        "#Let's walk towards the details of this dataframe.\n",
        "print(\"shape of this dataframe : \" + str(df_price.shape))\n",
        "df_price.info()"
      ],
      "execution_count": 306,
      "outputs": [
        {
          "output_type": "stream",
          "text": [
            "shape of this dataframe : (1482535, 8)\n",
            "<class 'pandas.core.frame.DataFrame'>\n",
            "RangeIndex: 1482535 entries, 0 to 1482534\n",
            "Data columns (total 8 columns):\n",
            " #   Column             Non-Null Count    Dtype  \n",
            "---  ------             --------------    -----  \n",
            " 0   train_id           1482535 non-null  int64  \n",
            " 1   name               1482535 non-null  object \n",
            " 2   item_condition_id  1482535 non-null  int64  \n",
            " 3   category_name      1476208 non-null  object \n",
            " 4   brand_name         849853 non-null   object \n",
            " 5   price              1482535 non-null  float64\n",
            " 6   shipping           1482535 non-null  int64  \n",
            " 7   item_description   1482531 non-null  object \n",
            "dtypes: float64(1), int64(3), object(4)\n",
            "memory usage: 90.5+ MB\n"
          ],
          "name": "stdout"
        }
      ]
    },
    {
      "cell_type": "markdown",
      "metadata": {
        "id": "NWvq7OTWJ0GP",
        "colab_type": "text"
      },
      "source": [
        "We got some hint. We have some missing value in category_name and item_description. Most importantly **A lot of entries DONOT have a brand name**. Why this is so and does it have a meaning rather than just a missing data? We will deal with this later. "
      ]
    },
    {
      "cell_type": "code",
      "metadata": {
        "id": "DPZANNunJfRD",
        "colab_type": "code",
        "colab": {
          "base_uri": "https://localhost:8080/",
          "height": 297
        },
        "outputId": "dfbe7691-4abf-4007-d7d3-e47288c85afc"
      },
      "source": [
        "df_price.describe()"
      ],
      "execution_count": 307,
      "outputs": [
        {
          "output_type": "execute_result",
          "data": {
            "text/html": [
              "<div>\n",
              "<style scoped>\n",
              "    .dataframe tbody tr th:only-of-type {\n",
              "        vertical-align: middle;\n",
              "    }\n",
              "\n",
              "    .dataframe tbody tr th {\n",
              "        vertical-align: top;\n",
              "    }\n",
              "\n",
              "    .dataframe thead th {\n",
              "        text-align: right;\n",
              "    }\n",
              "</style>\n",
              "<table border=\"1\" class=\"dataframe\">\n",
              "  <thead>\n",
              "    <tr style=\"text-align: right;\">\n",
              "      <th></th>\n",
              "      <th>train_id</th>\n",
              "      <th>item_condition_id</th>\n",
              "      <th>price</th>\n",
              "      <th>shipping</th>\n",
              "    </tr>\n",
              "  </thead>\n",
              "  <tbody>\n",
              "    <tr>\n",
              "      <th>count</th>\n",
              "      <td>1.482535e+06</td>\n",
              "      <td>1.482535e+06</td>\n",
              "      <td>1.482535e+06</td>\n",
              "      <td>1.482535e+06</td>\n",
              "    </tr>\n",
              "    <tr>\n",
              "      <th>mean</th>\n",
              "      <td>7.412670e+05</td>\n",
              "      <td>1.907380e+00</td>\n",
              "      <td>2.673752e+01</td>\n",
              "      <td>4.472744e-01</td>\n",
              "    </tr>\n",
              "    <tr>\n",
              "      <th>std</th>\n",
              "      <td>4.279711e+05</td>\n",
              "      <td>9.031586e-01</td>\n",
              "      <td>3.858607e+01</td>\n",
              "      <td>4.972124e-01</td>\n",
              "    </tr>\n",
              "    <tr>\n",
              "      <th>min</th>\n",
              "      <td>0.000000e+00</td>\n",
              "      <td>1.000000e+00</td>\n",
              "      <td>0.000000e+00</td>\n",
              "      <td>0.000000e+00</td>\n",
              "    </tr>\n",
              "    <tr>\n",
              "      <th>25%</th>\n",
              "      <td>3.706335e+05</td>\n",
              "      <td>1.000000e+00</td>\n",
              "      <td>1.000000e+01</td>\n",
              "      <td>0.000000e+00</td>\n",
              "    </tr>\n",
              "    <tr>\n",
              "      <th>50%</th>\n",
              "      <td>7.412670e+05</td>\n",
              "      <td>2.000000e+00</td>\n",
              "      <td>1.700000e+01</td>\n",
              "      <td>0.000000e+00</td>\n",
              "    </tr>\n",
              "    <tr>\n",
              "      <th>75%</th>\n",
              "      <td>1.111900e+06</td>\n",
              "      <td>3.000000e+00</td>\n",
              "      <td>2.900000e+01</td>\n",
              "      <td>1.000000e+00</td>\n",
              "    </tr>\n",
              "    <tr>\n",
              "      <th>max</th>\n",
              "      <td>1.482534e+06</td>\n",
              "      <td>5.000000e+00</td>\n",
              "      <td>2.009000e+03</td>\n",
              "      <td>1.000000e+00</td>\n",
              "    </tr>\n",
              "  </tbody>\n",
              "</table>\n",
              "</div>"
            ],
            "text/plain": [
              "           train_id  item_condition_id         price      shipping\n",
              "count  1.482535e+06       1.482535e+06  1.482535e+06  1.482535e+06\n",
              "mean   7.412670e+05       1.907380e+00  2.673752e+01  4.472744e-01\n",
              "std    4.279711e+05       9.031586e-01  3.858607e+01  4.972124e-01\n",
              "min    0.000000e+00       1.000000e+00  0.000000e+00  0.000000e+00\n",
              "25%    3.706335e+05       1.000000e+00  1.000000e+01  0.000000e+00\n",
              "50%    7.412670e+05       2.000000e+00  1.700000e+01  0.000000e+00\n",
              "75%    1.111900e+06       3.000000e+00  2.900000e+01  1.000000e+00\n",
              "max    1.482534e+06       5.000000e+00  2.009000e+03  1.000000e+00"
            ]
          },
          "metadata": {
            "tags": []
          },
          "execution_count": 307
        }
      ]
    },
    {
      "cell_type": "code",
      "metadata": {
        "id": "lJyr5dqaKo5s",
        "colab_type": "code",
        "colab": {
          "base_uri": "https://localhost:8080/",
          "height": 173
        },
        "outputId": "eaae498d-1c87-4fbc-9e8c-526426c0f4fd"
      },
      "source": [
        "df_price.describe(include=object)"
      ],
      "execution_count": 308,
      "outputs": [
        {
          "output_type": "execute_result",
          "data": {
            "text/html": [
              "<div>\n",
              "<style scoped>\n",
              "    .dataframe tbody tr th:only-of-type {\n",
              "        vertical-align: middle;\n",
              "    }\n",
              "\n",
              "    .dataframe tbody tr th {\n",
              "        vertical-align: top;\n",
              "    }\n",
              "\n",
              "    .dataframe thead th {\n",
              "        text-align: right;\n",
              "    }\n",
              "</style>\n",
              "<table border=\"1\" class=\"dataframe\">\n",
              "  <thead>\n",
              "    <tr style=\"text-align: right;\">\n",
              "      <th></th>\n",
              "      <th>name</th>\n",
              "      <th>category_name</th>\n",
              "      <th>brand_name</th>\n",
              "      <th>item_description</th>\n",
              "    </tr>\n",
              "  </thead>\n",
              "  <tbody>\n",
              "    <tr>\n",
              "      <th>count</th>\n",
              "      <td>1482535</td>\n",
              "      <td>1476208</td>\n",
              "      <td>849853</td>\n",
              "      <td>1482531</td>\n",
              "    </tr>\n",
              "    <tr>\n",
              "      <th>unique</th>\n",
              "      <td>1225273</td>\n",
              "      <td>1287</td>\n",
              "      <td>4809</td>\n",
              "      <td>1281426</td>\n",
              "    </tr>\n",
              "    <tr>\n",
              "      <th>top</th>\n",
              "      <td>Bundle</td>\n",
              "      <td>Women/Athletic Apparel/Pants, Tights, Leggings</td>\n",
              "      <td>PINK</td>\n",
              "      <td>No description yet</td>\n",
              "    </tr>\n",
              "    <tr>\n",
              "      <th>freq</th>\n",
              "      <td>2232</td>\n",
              "      <td>60177</td>\n",
              "      <td>54088</td>\n",
              "      <td>82489</td>\n",
              "    </tr>\n",
              "  </tbody>\n",
              "</table>\n",
              "</div>"
            ],
            "text/plain": [
              "           name  ...    item_description\n",
              "count   1482535  ...             1482531\n",
              "unique  1225273  ...             1281426\n",
              "top      Bundle  ...  No description yet\n",
              "freq       2232  ...               82489\n",
              "\n",
              "[4 rows x 4 columns]"
            ]
          },
          "metadata": {
            "tags": []
          },
          "execution_count": 308
        }
      ]
    },
    {
      "cell_type": "markdown",
      "metadata": {
        "id": "uWHMc9g5LUU2",
        "colab_type": "text"
      },
      "source": [
        "Let's review more hints and observations. \n",
        "1. Train_id doesn't mean anything.\n",
        "2. Item Condition id has 1,2,3,4, and 5 rating, where 1 means is almost new and 5 means the opposite.\n",
        "3. There are some stuffs with zero price, which is quite strange. We have to deal with that.\n",
        "4. Shipping has binart 0 or 1 value. 1 is shipping value paid by the seller.\n",
        "5. In item description, we have some lazy customer or someone who is just reluctant to provide any description. Why is that? "
      ]
    },
    {
      "cell_type": "code",
      "metadata": {
        "id": "fTDdzdxlKyYF",
        "colab_type": "code",
        "colab": {
          "base_uri": "https://localhost:8080/",
          "height": 170
        },
        "outputId": "ae32c049-4995-4ae1-a2b0-ddc26b25d693"
      },
      "source": [
        "# Now we will do some cleaning of the data. First, we will check for None values.\n",
        "df_price.isnull().sum()"
      ],
      "execution_count": 309,
      "outputs": [
        {
          "output_type": "execute_result",
          "data": {
            "text/plain": [
              "train_id                  0\n",
              "name                      0\n",
              "item_condition_id         0\n",
              "category_name          6327\n",
              "brand_name           632682\n",
              "price                     0\n",
              "shipping                  0\n",
              "item_description          4\n",
              "dtype: int64"
            ]
          },
          "metadata": {
            "tags": []
          },
          "execution_count": 309
        }
      ]
    },
    {
      "cell_type": "markdown",
      "metadata": {
        "id": "MNI8uUD8dBds",
        "colab_type": "text"
      },
      "source": [
        "We can clearly see that, category_name, brand_name and item_description has missing values. We can use the fillna method to fill the missing values. "
      ]
    },
    {
      "cell_type": "code",
      "metadata": {
        "id": "UNbGh8kvPULC",
        "colab_type": "code",
        "colab": {}
      },
      "source": [
        "df_price['category_name'].fillna(value='Other', inplace=True) \n",
        "# There's category name called \"Other\", and the missing categories can be entitled to that\n",
        "df_price['brand_name'].fillna(value='Non-branded', inplace=True)\n",
        "df_price['item_description'].fillna(value='No description provided', inplace=True)"
      ],
      "execution_count": 0,
      "outputs": []
    },
    {
      "cell_type": "markdown",
      "metadata": {
        "id": "fvxPGcq0ksBk",
        "colab_type": "text"
      },
      "source": [
        "We saw earlier that some entries have stated price as zero (0). Now, this is an unexpected situation as when Mercury would want to suggest a seller some price, it is no-way can be zero. Also, the price is our predictive variable and we donot want to mess with it by extrapolating it somehow. Thus, let's just remove that. "
      ]
    },
    {
      "cell_type": "code",
      "metadata": {
        "id": "HbrjQKUsdcwJ",
        "colab_type": "code",
        "colab": {
          "base_uri": "https://localhost:8080/",
          "height": 34
        },
        "outputId": "bf6ce9fe-2062-478c-a8de-91bd25559422"
      },
      "source": [
        "df_price = df_price[df_price.price!=0]\n",
        "df_price.shape"
      ],
      "execution_count": 311,
      "outputs": [
        {
          "output_type": "execute_result",
          "data": {
            "text/plain": [
              "(1481661, 8)"
            ]
          },
          "metadata": {
            "tags": []
          },
          "execution_count": 311
        }
      ]
    },
    {
      "cell_type": "markdown",
      "metadata": {
        "id": "vDr3VIgFmZ_j",
        "colab_type": "text"
      },
      "source": [
        "**Step 2: Visualization of distribution**"
      ]
    },
    {
      "cell_type": "markdown",
      "metadata": {
        "id": "gZHNigAsnGCp",
        "colab_type": "text"
      },
      "source": [
        "We will start with exploring of the price. We will see how the price is distributed."
      ]
    },
    {
      "cell_type": "code",
      "metadata": {
        "id": "Gc_27t6rmCqo",
        "colab_type": "code",
        "colab": {
          "base_uri": "https://localhost:8080/",
          "height": 170
        },
        "outputId": "caaff0d0-7811-4bcc-fa5e-a94223e52de4"
      },
      "source": [
        "df_price['price'].describe()"
      ],
      "execution_count": 312,
      "outputs": [
        {
          "output_type": "execute_result",
          "data": {
            "text/plain": [
              "count    1.481661e+06\n",
              "mean     2.675329e+01\n",
              "std      3.859198e+01\n",
              "min      3.000000e+00\n",
              "25%      1.000000e+01\n",
              "50%      1.700000e+01\n",
              "75%      2.900000e+01\n",
              "max      2.009000e+03\n",
              "Name: price, dtype: float64"
            ]
          },
          "metadata": {
            "tags": []
          },
          "execution_count": 312
        }
      ]
    },
    {
      "cell_type": "code",
      "metadata": {
        "id": "TvxHjG4doWtK",
        "colab_type": "code",
        "colab": {
          "base_uri": "https://localhost:8080/",
          "height": 634
        },
        "outputId": "bd0408a3-6729-45b8-dd9e-63bcd9224af7"
      },
      "source": [
        "#Let's visualize\n",
        "import matplotlib.pyplot as plt\n",
        "%matplotlib inline\n",
        "df_price['price'].hist(bins=100, figsize=(20, 10), edgecolor = 'white', range = [0, 250]) #edgecolor ensures in-between bins, we have something different color as seperator\n",
        "plt.xlabel('Price', fontsize=20)\n",
        "plt.ylabel('Number of entries in the range', fontsize=20)"
      ],
      "execution_count": 313,
      "outputs": [
        {
          "output_type": "execute_result",
          "data": {
            "text/plain": [
              "Text(0, 0.5, 'Number of entries in the range')"
            ]
          },
          "metadata": {
            "tags": []
          },
          "execution_count": 313
        },
        {
          "output_type": "display_data",
          "data": {
            "image/png": "[encoded data removed]",
            "text/plain": [
              "<Figure size 1440x720 with 1 Axes>"
            ]
          },
          "metadata": {
            "tags": [],
            "needs_background": "light"
          }
        }
      ]
    },
    {
      "cell_type": "markdown",
      "metadata": {
        "id": "UpikcD1Du6be",
        "colab_type": "text"
      },
      "source": [
        "The price distribution is highly skewed to right side. That means, most products are priced between 0 to 50 usd and may be some in the hundreds."
      ]
    },
    {
      "cell_type": "code",
      "metadata": {
        "id": "I0SEyXSWo2xv",
        "colab_type": "code",
        "colab": {
          "base_uri": "https://localhost:8080/",
          "height": 34
        },
        "outputId": "0842331d-54cf-4a40-dd7f-d0ea78fe2650"
      },
      "source": [
        "print('prices less than or equal to 50 USD are {:.2f}%  and prices less than 100 USD are {:.2f}% of the total data.'.format(df_price[df_price.price<=50].shape[0]*100/df_price.shape[0],\n",
        "      df_price[df_price.price<=100].shape[0]*100/df_price.shape[0]))"
      ],
      "execution_count": 314,
      "outputs": [
        {
          "output_type": "stream",
          "text": [
            "prices less than or equal to 50 USD are 89.89%  and prices less than 100 USD are 97.17% of the total data.\n"
          ],
          "name": "stdout"
        }
      ]
    },
    {
      "cell_type": "markdown",
      "metadata": {
        "id": "BffCdrkePVmy",
        "colab_type": "text"
      },
      "source": [
        "Due to the skewed distribution of the price, in Kaggle, the measure of error is RMSLE (Root Mean-Squared Log Error). So, we will transform the data into log scale."
      ]
    },
    {
      "cell_type": "markdown",
      "metadata": {
        "id": "51oGo3y5TGGq",
        "colab_type": "text"
      },
      "source": [
        "**Now, we will try to analyze the shipping**"
      ]
    },
    {
      "cell_type": "code",
      "metadata": {
        "id": "HtdjlgE4tZF4",
        "colab_type": "code",
        "colab": {
          "base_uri": "https://localhost:8080/",
          "height": 68
        },
        "outputId": "ac466c86-e2c3-4f4a-b7e0-19954a0e8076"
      },
      "source": [
        "df_price['shipping'].value_counts()*100/len(df_price)"
      ],
      "execution_count": 315,
      "outputs": [
        {
          "output_type": "execute_result",
          "data": {
            "text/plain": [
              "0    55.267433\n",
              "1    44.732567\n",
              "Name: shipping, dtype: float64"
            ]
          },
          "metadata": {
            "tags": []
          },
          "execution_count": 315
        }
      ]
    },
    {
      "cell_type": "markdown",
      "metadata": {
        "id": "bj7F0aEmTy93",
        "colab_type": "text"
      },
      "source": [
        "So, in 55% of the cases shipping cost will not be provided by the seller and the buyer has to pay for it. "
      ]
    },
    {
      "cell_type": "markdown",
      "metadata": {
        "id": "EulJr8fdT2Oh",
        "colab_type": "text"
      },
      "source": [
        "But is there anything we can relate with shipping and price?"
      ]
    },
    {
      "cell_type": "code",
      "metadata": {
        "id": "iEbTK7EBPiUt",
        "colab_type": "code",
        "colab": {
          "base_uri": "https://localhost:8080/",
          "height": 85
        },
        "outputId": "cc0cdb6e-c225-4344-bd3f-f3be0ffb9170"
      },
      "source": [
        "df_price.price.groupby(df_price.shipping).mean()"
      ],
      "execution_count": 316,
      "outputs": [
        {
          "output_type": "execute_result",
          "data": {
            "text/plain": [
              "shipping\n",
              "0    30.132333\n",
              "1    22.578452\n",
              "Name: price, dtype: float64"
            ]
          },
          "metadata": {
            "tags": []
          },
          "execution_count": 316
        }
      ]
    },
    {
      "cell_type": "markdown",
      "metadata": {
        "id": "MQf-N6WQhrOb",
        "colab_type": "text"
      },
      "source": [
        "This is interesting but slight contraty to intuitive thought. Products where shipping cost is paid by the seller is lower in average price. However, there can be reasons behind it, and further analysis can be done to explore the fact."
      ]
    },
    {
      "cell_type": "markdown",
      "metadata": {
        "id": "dAiyO72NiTk1",
        "colab_type": "text"
      },
      "source": [
        "**Now we will try to analyze the effect of item condition on price**"
      ]
    },
    {
      "cell_type": "code",
      "metadata": {
        "id": "sRqJ4efBTzn5",
        "colab_type": "code",
        "colab": {
          "base_uri": "https://localhost:8080/",
          "height": 285
        },
        "outputId": "3870c9f0-270a-4527-dcca-8470ce071d65"
      },
      "source": [
        "import seaborn as sns\n",
        "\n",
        "conditions = df_price.item_condition_id.value_counts().reset_index()\n",
        "\n",
        "sns.barplot(x=\"index\", y='item_condition_id', data=conditions, color=\"r\")\n",
        "\n",
        "plt.xlabel('Condition of the item')\n",
        "plt.ylabel('Frequency')\n",
        "plt.show()\n"
      ],
      "execution_count": 317,
      "outputs": [
        {
          "output_type": "display_data",
          "data": {
            "image/png": "[encoded data removed]",
            "text/plain": [
              "<Figure size 432x288 with 1 Axes>"
            ]
          },
          "metadata": {
            "tags": [],
            "needs_background": "light"
          }
        }
      ]
    },
    {
      "cell_type": "markdown",
      "metadata": {
        "id": "S9h0GwbelQTH",
        "colab_type": "text"
      },
      "source": [
        "So, we can see that, most items are in very good condition. Let's find out how the avergae price is distributed along different conditioned items."
      ]
    },
    {
      "cell_type": "code",
      "metadata": {
        "id": "BobMr1gTY73k",
        "colab_type": "code",
        "colab": {
          "base_uri": "https://localhost:8080/",
          "height": 136
        },
        "outputId": "0b7cc27a-eddd-4eeb-fcf1-7b4aae836022"
      },
      "source": [
        "df_price['price'].groupby(df_price.item_condition_id).mean()"
      ],
      "execution_count": 318,
      "outputs": [
        {
          "output_type": "execute_result",
          "data": {
            "text/plain": [
              "item_condition_id\n",
              "1    26.499502\n",
              "2    27.584015\n",
              "3    26.557241\n",
              "4    24.362169\n",
              "5    31.730479\n",
              "Name: price, dtype: float64"
            ]
          },
          "metadata": {
            "tags": []
          },
          "execution_count": 318
        }
      ]
    },
    {
      "cell_type": "markdown",
      "metadata": {
        "id": "Og6ylmfNl9on",
        "colab_type": "text"
      },
      "source": [
        "The mean price doesnot seem to be much informative."
      ]
    },
    {
      "cell_type": "markdown",
      "metadata": {
        "id": "ZKMLhNqqnAsj",
        "colab_type": "text"
      },
      "source": [
        "**We have a column named category. Can we find something meaningful from the category name?**"
      ]
    },
    {
      "cell_type": "code",
      "metadata": {
        "id": "x9TnMw1XZKcs",
        "colab_type": "code",
        "colab": {
          "base_uri": "https://localhost:8080/",
          "height": 102
        },
        "outputId": "29b40a42-90de-4d24-d7c3-341ee8cab4e8"
      },
      "source": [
        "df_price['category_name'].describe(include=object)"
      ],
      "execution_count": 319,
      "outputs": [
        {
          "output_type": "execute_result",
          "data": {
            "text/plain": [
              "count                                            1481661\n",
              "unique                                              1288\n",
              "top       Women/Athletic Apparel/Pants, Tights, Leggings\n",
              "freq                                               60152\n",
              "Name: category_name, dtype: object"
            ]
          },
          "metadata": {
            "tags": []
          },
          "execution_count": 319
        }
      ]
    },
    {
      "cell_type": "markdown",
      "metadata": {
        "id": "xc1FsHmsn-sO",
        "colab_type": "text"
      },
      "source": [
        "We have 1288 unique categories here. It's difficult to visualize all of them. Let's try to visualize top 20 of them. "
      ]
    },
    {
      "cell_type": "code",
      "metadata": {
        "id": "Pgh4Jl72aXdC",
        "colab_type": "code",
        "colab": {
          "base_uri": "https://localhost:8080/",
          "height": 339
        },
        "outputId": "af2ba8d0-9ef1-4ae5-b6dc-c3e5bd5824a7"
      },
      "source": [
        "cats = df_price.category_name.value_counts().reset_index()[:10]\n",
        "# Initialize the matplotlib figure\n",
        "f, ax = plt.subplots(figsize=(15, 5))\n",
        "\n",
        "# Plot the total items per category\n",
        "sns.barplot(x=\"category_name\", y='index', data=cats, color=\"b\")\n",
        "# Add a legend and informative axis label\n",
        "ax.set( ylabel=\"Name of Item Category\",\n",
        "       xlabel=\"Number of Items\")\n",
        "\n",
        "plt.show()"
      ],
      "execution_count": 320,
      "outputs": [
        {
          "output_type": "display_data",
          "data": {
            "image/png": "[encoded data removed]",
            "text/plain": [
              "<Figure size 1080x360 with 1 Axes>"
            ]
          },
          "metadata": {
            "tags": [],
            "needs_background": "light"
          }
        }
      ]
    },
    {
      "cell_type": "markdown",
      "metadata": {
        "id": "nqlCmkVIsNtz",
        "colab_type": "text"
      },
      "source": [
        "We get a hint that most of the items belong to women products. We have to find a way to categorize that in a better way. One way can be analyze the subcategories that are seperated by backslash. "
      ]
    },
    {
      "cell_type": "code",
      "metadata": {
        "id": "LxUzA94ko146",
        "colab_type": "code",
        "colab": {}
      },
      "source": [
        "# Creating new Category Features\n",
        "def seperate_categories(category_name):\n",
        "  # We observe that most entries have three category names seperated by a backslash. \n",
        "  # If we do not find such, we will return the miscellaneous category.\n",
        "    try:\n",
        "        main_cat, sub_cat1, sub_cat2= category_name.split('/')\n",
        "        return main_cat, sub_cat1, sub_cat2\n",
        "    except:\n",
        "        return 'Other','Other','Other'"
      ],
      "execution_count": 0,
      "outputs": []
    },
    {
      "cell_type": "code",
      "metadata": {
        "id": "h14vD7Ndtcyg",
        "colab_type": "code",
        "colab": {
          "base_uri": "https://localhost:8080/",
          "height": 266
        },
        "outputId": "f7eac352-b826-435b-d661-9b1ddcf4a532"
      },
      "source": [
        "df_price['category_main'], df_price['category_sub1'], df_price['category_sub2'] = zip(*df_price['category_name'].apply(seperate_categories))\n",
        "categories = df_price[['category_main','category_sub1','category_sub2', 'price']]\n",
        "categories.head(7)"
      ],
      "execution_count": 322,
      "outputs": [
        {
          "output_type": "execute_result",
          "data": {
            "text/html": [
              "<div>\n",
              "<style scoped>\n",
              "    .dataframe tbody tr th:only-of-type {\n",
              "        vertical-align: middle;\n",
              "    }\n",
              "\n",
              "    .dataframe tbody tr th {\n",
              "        vertical-align: top;\n",
              "    }\n",
              "\n",
              "    .dataframe thead th {\n",
              "        text-align: right;\n",
              "    }\n",
              "</style>\n",
              "<table border=\"1\" class=\"dataframe\">\n",
              "  <thead>\n",
              "    <tr style=\"text-align: right;\">\n",
              "      <th></th>\n",
              "      <th>category_main</th>\n",
              "      <th>category_sub1</th>\n",
              "      <th>category_sub2</th>\n",
              "      <th>price</th>\n",
              "    </tr>\n",
              "  </thead>\n",
              "  <tbody>\n",
              "    <tr>\n",
              "      <th>0</th>\n",
              "      <td>Men</td>\n",
              "      <td>Tops</td>\n",
              "      <td>T-shirts</td>\n",
              "      <td>10.0</td>\n",
              "    </tr>\n",
              "    <tr>\n",
              "      <th>1</th>\n",
              "      <td>Electronics</td>\n",
              "      <td>Computers &amp; Tablets</td>\n",
              "      <td>Components &amp; Parts</td>\n",
              "      <td>52.0</td>\n",
              "    </tr>\n",
              "    <tr>\n",
              "      <th>2</th>\n",
              "      <td>Women</td>\n",
              "      <td>Tops &amp; Blouses</td>\n",
              "      <td>Blouse</td>\n",
              "      <td>10.0</td>\n",
              "    </tr>\n",
              "    <tr>\n",
              "      <th>3</th>\n",
              "      <td>Home</td>\n",
              "      <td>Home Décor</td>\n",
              "      <td>Home Décor Accents</td>\n",
              "      <td>35.0</td>\n",
              "    </tr>\n",
              "    <tr>\n",
              "      <th>4</th>\n",
              "      <td>Women</td>\n",
              "      <td>Jewelry</td>\n",
              "      <td>Necklaces</td>\n",
              "      <td>44.0</td>\n",
              "    </tr>\n",
              "    <tr>\n",
              "      <th>5</th>\n",
              "      <td>Women</td>\n",
              "      <td>Other</td>\n",
              "      <td>Other</td>\n",
              "      <td>59.0</td>\n",
              "    </tr>\n",
              "    <tr>\n",
              "      <th>6</th>\n",
              "      <td>Women</td>\n",
              "      <td>Swimwear</td>\n",
              "      <td>Two-Piece</td>\n",
              "      <td>64.0</td>\n",
              "    </tr>\n",
              "  </tbody>\n",
              "</table>\n",
              "</div>"
            ],
            "text/plain": [
              "  category_main        category_sub1       category_sub2  price\n",
              "0           Men                 Tops            T-shirts   10.0\n",
              "1   Electronics  Computers & Tablets  Components & Parts   52.0\n",
              "2         Women       Tops & Blouses              Blouse   10.0\n",
              "3          Home           Home Décor  Home Décor Accents   35.0\n",
              "4         Women              Jewelry           Necklaces   44.0\n",
              "5         Women                Other               Other   59.0\n",
              "6         Women             Swimwear           Two-Piece   64.0"
            ]
          },
          "metadata": {
            "tags": []
          },
          "execution_count": 322
        }
      ]
    },
    {
      "cell_type": "code",
      "metadata": {
        "id": "OHEc5D3uu7ej",
        "colab_type": "code",
        "colab": {
          "base_uri": "https://localhost:8080/",
          "height": 204
        },
        "outputId": "83e839a6-4ce8-4519-a205-b4da723b402d"
      },
      "source": [
        "cat_dist = categories.category_main.value_counts()\n",
        "print(cat_dist)"
      ],
      "execution_count": 323,
      "outputs": [
        {
          "output_type": "stream",
          "text": [
            "Women                     663990\n",
            "Beauty                    207725\n",
            "Kids                      171555\n",
            "Electronics               119577\n",
            "Men                        93292\n",
            "Home                       67831\n",
            "Other                      56028\n",
            "Vintage & Collectibles     46519\n",
            "Handmade                   30833\n",
            "Sports & Outdoors          24311\n",
            "Name: category_main, dtype: int64\n"
          ],
          "name": "stdout"
        }
      ]
    },
    {
      "cell_type": "code",
      "metadata": {
        "id": "uYP0qEmqOYlm",
        "colab_type": "code",
        "colab": {
          "base_uri": "https://localhost:8080/",
          "height": 68
        },
        "outputId": "d0fd06c1-ba41-48e6-f164-140e28e482da"
      },
      "source": [
        "cat_dist.index"
      ],
      "execution_count": 332,
      "outputs": [
        {
          "output_type": "execute_result",
          "data": {
            "text/plain": [
              "Index(['Women', 'Beauty', 'Kids', 'Electronics', 'Men', 'Home', 'Other',\n",
              "       'Vintage & Collectibles', 'Handmade', 'Sports & Outdoors'],\n",
              "      dtype='object')"
            ]
          },
          "metadata": {
            "tags": []
          },
          "execution_count": 332
        }
      ]
    },
    {
      "cell_type": "code",
      "metadata": {
        "id": "BO_D_oCDvSK7",
        "colab_type": "code",
        "colab": {
          "base_uri": "https://localhost:8080/",
          "height": 34
        },
        "outputId": "0ab6ea4b-09aa-4a9a-b558-c20c3c194e49"
      },
      "source": [
        "print('{} category is top and {:.2f}% of total entries and {} category is the least frequent and {:.2f}% of total entries'.\n",
        "      format(cat_dist.index[0], cat_dist[0]*100/df_price.shape[0], cat_dist.index[-1], cat_dist[-1]*100/df_price.shape[0]))"
      ],
      "execution_count": 333,
      "outputs": [
        {
          "output_type": "stream",
          "text": [
            "Women category is top and 44.81% of total entries and Sports & Outdoors category is the least frequent and 1.64% of total entries\n"
          ],
          "name": "stdout"
        }
      ]
    },
    {
      "cell_type": "markdown",
      "metadata": {
        "id": "Yu-oT30jC-Gh",
        "colab_type": "text"
      },
      "source": [
        "Now, we can explore how many sub-categories are present of each category."
      ]
    },
    {
      "cell_type": "code",
      "metadata": {
        "id": "3L3AupcZy9HF",
        "colab_type": "code",
        "colab": {
          "base_uri": "https://localhost:8080/",
          "height": 235
        },
        "outputId": "664bab99-77ae-4682-c368-4a0a46f67edc"
      },
      "source": [
        "c = pd.crosstab(categories['category_sub1'], categories['category_main'])\n",
        "c.head()"
      ],
      "execution_count": 325,
      "outputs": [
        {
          "output_type": "execute_result",
          "data": {
            "text/html": [
              "<div>\n",
              "<style scoped>\n",
              "    .dataframe tbody tr th:only-of-type {\n",
              "        vertical-align: middle;\n",
              "    }\n",
              "\n",
              "    .dataframe tbody tr th {\n",
              "        vertical-align: top;\n",
              "    }\n",
              "\n",
              "    .dataframe thead th {\n",
              "        text-align: right;\n",
              "    }\n",
              "</style>\n",
              "<table border=\"1\" class=\"dataframe\">\n",
              "  <thead>\n",
              "    <tr style=\"text-align: right;\">\n",
              "      <th>category_main</th>\n",
              "      <th>Beauty</th>\n",
              "      <th>Electronics</th>\n",
              "      <th>Handmade</th>\n",
              "      <th>Home</th>\n",
              "      <th>Kids</th>\n",
              "      <th>Men</th>\n",
              "      <th>Other</th>\n",
              "      <th>Sports &amp; Outdoors</th>\n",
              "      <th>Vintage &amp; Collectibles</th>\n",
              "      <th>Women</th>\n",
              "    </tr>\n",
              "    <tr>\n",
              "      <th>category_sub1</th>\n",
              "      <th></th>\n",
              "      <th></th>\n",
              "      <th></th>\n",
              "      <th></th>\n",
              "      <th></th>\n",
              "      <th></th>\n",
              "      <th></th>\n",
              "      <th></th>\n",
              "      <th></th>\n",
              "      <th></th>\n",
              "    </tr>\n",
              "  </thead>\n",
              "  <tbody>\n",
              "    <tr>\n",
              "      <th>Accessories</th>\n",
              "      <td>0</td>\n",
              "      <td>0</td>\n",
              "      <td>5954</td>\n",
              "      <td>0</td>\n",
              "      <td>0</td>\n",
              "      <td>0</td>\n",
              "      <td>0</td>\n",
              "      <td>0</td>\n",
              "      <td>2258</td>\n",
              "      <td>0</td>\n",
              "    </tr>\n",
              "    <tr>\n",
              "      <th>Antique</th>\n",
              "      <td>0</td>\n",
              "      <td>0</td>\n",
              "      <td>0</td>\n",
              "      <td>0</td>\n",
              "      <td>0</td>\n",
              "      <td>0</td>\n",
              "      <td>0</td>\n",
              "      <td>0</td>\n",
              "      <td>6093</td>\n",
              "      <td>0</td>\n",
              "    </tr>\n",
              "    <tr>\n",
              "      <th>Apparel</th>\n",
              "      <td>0</td>\n",
              "      <td>0</td>\n",
              "      <td>0</td>\n",
              "      <td>0</td>\n",
              "      <td>0</td>\n",
              "      <td>0</td>\n",
              "      <td>0</td>\n",
              "      <td>2918</td>\n",
              "      <td>0</td>\n",
              "      <td>0</td>\n",
              "    </tr>\n",
              "    <tr>\n",
              "      <th>Art</th>\n",
              "      <td>0</td>\n",
              "      <td>0</td>\n",
              "      <td>655</td>\n",
              "      <td>0</td>\n",
              "      <td>0</td>\n",
              "      <td>0</td>\n",
              "      <td>0</td>\n",
              "      <td>0</td>\n",
              "      <td>0</td>\n",
              "      <td>0</td>\n",
              "    </tr>\n",
              "    <tr>\n",
              "      <th>Artwork</th>\n",
              "      <td>0</td>\n",
              "      <td>0</td>\n",
              "      <td>0</td>\n",
              "      <td>1263</td>\n",
              "      <td>0</td>\n",
              "      <td>0</td>\n",
              "      <td>0</td>\n",
              "      <td>0</td>\n",
              "      <td>0</td>\n",
              "      <td>0</td>\n",
              "    </tr>\n",
              "  </tbody>\n",
              "</table>\n",
              "</div>"
            ],
            "text/plain": [
              "category_main  Beauty  Electronics  ...  Vintage & Collectibles  Women\n",
              "category_sub1                       ...                               \n",
              "Accessories         0            0  ...                    2258      0\n",
              "Antique             0            0  ...                    6093      0\n",
              "Apparel             0            0  ...                       0      0\n",
              "Art                 0            0  ...                       0      0\n",
              "Artwork             0            0  ...                       0      0\n",
              "\n",
              "[5 rows x 10 columns]"
            ]
          },
          "metadata": {
            "tags": []
          },
          "execution_count": 325
        }
      ]
    },
    {
      "cell_type": "markdown",
      "metadata": {
        "id": "h0xdbMvdDWl1",
        "colab_type": "text"
      },
      "source": [
        "This table can be a bit hard to visulaize. Instead, we can plot if we want."
      ]
    },
    {
      "cell_type": "code",
      "metadata": {
        "id": "yFrEHh8GwvHh",
        "colab_type": "code",
        "colab": {}
      },
      "source": [
        "main_cat = {}\n",
        "for col in c.columns:\n",
        "  col_value = c[col].tolist()\n",
        "  main_cat[col] = [(c.index[idx], itm) for idx, itm in enumerate(col_value) if itm>0]\n"
      ],
      "execution_count": 0,
      "outputs": []
    },
    {
      "cell_type": "markdown",
      "metadata": {
        "id": "Fd-aDLhID2Ed",
        "colab_type": "text"
      },
      "source": [
        "The main_cat function is a dictionary, where for each key, we have main item and then tuples of sub category 1 and the count of them. The same can be done for sub category 2 as well."
      ]
    },
    {
      "cell_type": "code",
      "metadata": {
        "id": "Dli5DJEIEK-B",
        "colab_type": "code",
        "colab": {
          "base_uri": "https://localhost:8080/",
          "height": 221
        },
        "outputId": "6616b7f1-2d6a-4e47-d37e-ab3c7bb09eef"
      },
      "source": [
        "main_cat['Home']"
      ],
      "execution_count": 327,
      "outputs": [
        {
          "output_type": "execute_result",
          "data": {
            "text/plain": [
              "[('Artwork', 1263),\n",
              " ('Bath', 1192),\n",
              " ('Bedding', 4226),\n",
              " ('Cleaning Supplies', 2366),\n",
              " ('Furniture', 165),\n",
              " ('Home Appliances', 2586),\n",
              " ('Home Décor', 25170),\n",
              " (\"Kids' Home Store\", 674),\n",
              " ('Kitchen & Dining', 21947),\n",
              " ('Other', 502),\n",
              " ('Seasonal Décor', 4863),\n",
              " ('Storage & Organization', 2877)]"
            ]
          },
          "metadata": {
            "tags": []
          },
          "execution_count": 327
        }
      ]
    },
    {
      "cell_type": "code",
      "metadata": {
        "id": "woQXEksdzlYz",
        "colab_type": "code",
        "colab": {
          "base_uri": "https://localhost:8080/",
          "height": 632
        },
        "outputId": "45f425b9-811a-4a0b-c037-d063f11464ab"
      },
      "source": [
        "# We plot the distribution for the women category\n",
        "plt.figure(figsize=(10,10))\n",
        "women_category = sorted(main_cat['Women'], key=lambda x:x[1])\n",
        "plt.barh(list(zip(*women_category))[0], list(zip(*women_category))[1], color='g')\n",
        "plt.xlabel('Count of items')\n",
        "plt.ylabel('subcategory 1')\n",
        "plt.title('Distribution of subcategory 1 for main category named \"Women\"', fontsize=20)\n",
        "plt.show()"
      ],
      "execution_count": 328,
      "outputs": [
        {
          "output_type": "display_data",
          "data": {
            "image/png": "[encoded data removed]",
            "text/plain": [
              "<Figure size 720x720 with 1 Axes>"
            ]
          },
          "metadata": {
            "tags": [],
            "needs_background": "light"
          }
        }
      ]
    },
    {
      "cell_type": "markdown",
      "metadata": {
        "id": "ImbZ4Uw9GFAv",
        "colab_type": "text"
      },
      "source": [
        "We can create many of the such visualization based on our target problem."
      ]
    },
    {
      "cell_type": "markdown",
      "metadata": {
        "id": "lumARXvRGOk-",
        "colab_type": "text"
      },
      "source": [
        "**Next we will focus on the brands**"
      ]
    },
    {
      "cell_type": "code",
      "metadata": {
        "id": "974rp7I6GFdE",
        "colab_type": "code",
        "colab": {
          "base_uri": "https://localhost:8080/",
          "height": 102
        },
        "outputId": "2035b98b-06d1-408f-8a6b-82197319d1ed"
      },
      "source": [
        "# How many brands are present there?\n",
        "print(df_price['brand_name'].describe())"
      ],
      "execution_count": 329,
      "outputs": [
        {
          "output_type": "stream",
          "text": [
            "count         1481661\n",
            "unique           4808\n",
            "top       Non-branded\n",
            "freq           632336\n",
            "Name: brand_name, dtype: object\n"
          ],
          "name": "stdout"
        }
      ]
    },
    {
      "cell_type": "markdown",
      "metadata": {
        "id": "qY16FkhTHSoj",
        "colab_type": "text"
      },
      "source": [
        "So, there are 4808 unique brands. Interestingly, the top catgeory is Non-branded. Therefore, we can choose the products with brand only. We can check in more detail"
      ]
    },
    {
      "cell_type": "code",
      "metadata": {
        "id": "b-dlzmwhG_pb",
        "colab_type": "code",
        "colab": {
          "base_uri": "https://localhost:8080/",
          "height": 357
        },
        "outputId": "0f74c49e-2633-4ae3-fb63-0f69b15c02d2"
      },
      "source": [
        "df_price['brand_name'].value_counts()[1:20]*100/df_price[df_price.brand_name!='Non-branded'].shape[0]"
      ],
      "execution_count": 330,
      "outputs": [
        {
          "output_type": "execute_result",
          "data": {
            "text/plain": [
              "PINK                 6.366467\n",
              "Nike                 6.358697\n",
              "Victoria's Secret    5.652842\n",
              "LuLaRoe              3.649369\n",
              "Apple                2.038560\n",
              "FOREVER 21           1.787066\n",
              "Nintendo             1.765873\n",
              "Lululemon            1.713125\n",
              "Michael Kors         1.638478\n",
              "American Eagle       1.559474\n",
              "Rae Dunn             1.448209\n",
              "Sephora              1.432196\n",
              "Coach                1.231331\n",
              "Disney               1.218850\n",
              "Bath & Body Works    1.218615\n",
              "Adidas               1.200365\n",
              "Funko                1.087099\n",
              "Under Armour         0.995850\n",
              "Sony                 0.940983\n",
              "Name: brand_name, dtype: float64"
            ]
          },
          "metadata": {
            "tags": []
          },
          "execution_count": 330
        }
      ]
    },
    {
      "cell_type": "markdown",
      "metadata": {
        "id": "ebdP0pM7K87p",
        "colab_type": "text"
      },
      "source": [
        "**What are the most expensive brands**"
      ]
    },
    {
      "cell_type": "code",
      "metadata": {
        "id": "iJdsIzJhKjkA",
        "colab_type": "code",
        "colab": {
          "base_uri": "https://localhost:8080/",
          "height": 552
        },
        "outputId": "9c7c06ff-027a-48bd-db84-27966f6d3988"
      },
      "source": [
        "top_expensive_brands = pd.DataFrame(df_price.groupby(['brand_name'],as_index=True).mean().price.sort_values(ascending=False)[0:10]).reset_index()\n",
        "plt.figure(figsize=(20, 7))\n",
        "ax = sns.barplot(x=\"brand_name\", y=\"price\", data=top_expensive_brands)\n",
        "ax.set_xticklabels(ax.get_xticklabels(),rotation=90)\n",
        "ax.set_title('Top 10 Expensive Brands', fontsize=15)\n",
        "plt.show()\n"
      ],
      "execution_count": 331,
      "outputs": [
        {
          "output_type": "display_data",
          "data": {
            "image/png": "[encoded data removed]",
            "text/plain": [
              "<Figure size 1440x504 with 1 Axes>"
            ]
          },
          "metadata": {
            "tags": [],
            "needs_background": "light"
          }
        }
      ]
    },
    {
      "cell_type": "markdown",
      "metadata": {
        "id": "porh90ZeIlqt",
        "colab_type": "text"
      },
      "source": [
        ""
      ]
    }
  ]
}